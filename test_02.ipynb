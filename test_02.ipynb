{
 "cells": [
  {
   "cell_type": "markdown",
   "metadata": {},
   "source": [
    "# Magic Function\n",
    "Create a class with a few functions like these examples.\n",
    "\n",
    "magic.replace(\"string\", 'char', char') is a function that replaces all of the specified characters with different specified characters.\n",
    "magic.str_length(\"string\") is a function that returns the length of the string.\n",
    "magic.trim(\" string \") is a function that returns a string with truncated spaces at both the beginning and end.\n",
    "magic.list_slice(list, tuple) is a function that returns the items in the list that are between the specified indexes. If the length of the new list is 0, return -1.\n",
    "Examples\n",
    "magic.replace(\"AzErty-QwErty\", \"E\", \"e\") ➞ \"Azerty-Qwerty\"\n",
    "\n",
    "magic.str_length(\"hello world\") ➞ 11\n",
    "\n",
    "magic.trim(\"      python is awesome      \") ➞ \"python is awesome\"\n",
    "\n",
    "magic.list_slice([1, 2, 3, 4, 5], (2, 4)) ➞ [ 2, 3, 4 ]"
   ]
  },
  {
   "cell_type": "code",
   "execution_count": 5,
   "metadata": {},
   "outputs": [],
   "source": [
    "class Magic:\n",
    "    @staticmethod\n",
    "    def replace(input_str, old_char, new_char):\n",
    "        return input_str.replace(old_char,new_char)\n",
    "    \n",
    "    @staticmethod\n",
    "    def str_length(input_str):\n",
    "        return len(input_str)\n",
    "    \n",
    "    @staticmethod\n",
    "    def trim(input_str):\n",
    "        return input_str.strip()\n",
    "    \n",
    "    @staticmethod\n",
    "    def list_slice(input_list,indexs):\n",
    "        start, end = indexs\n",
    "        result_list = input_list[start:end+1]\n",
    "        return result_list if result_list else -1\n",
    "    \n",
    "magic = Magic()"
   ]
  },
  {
   "cell_type": "code",
   "execution_count": 9,
   "metadata": {},
   "outputs": [
    {
     "name": "stdout",
     "output_type": "stream",
     "text": [
      "Azerty-Qwerty\n",
      "11\n",
      "python is awesome\n",
      "[10, 5]\n"
     ]
    }
   ],
   "source": [
    "print(magic.replace(\"AzErty-QwErty\", \"E\", \"e\"))\n",
    "print(magic.str_length(\"hello world\"))\n",
    "print(magic.trim(\"      python is awesome      \"))\n",
    "print(magic.list_slice([1, 2,10,5, 3, 4, 5], (2, 3)))\n"
   ]
  }
 ],
 "metadata": {
  "kernelspec": {
   "display_name": "venv",
   "language": "python",
   "name": "python3"
  },
  "language_info": {
   "codemirror_mode": {
    "name": "ipython",
    "version": 3
   },
   "file_extension": ".py",
   "mimetype": "text/x-python",
   "name": "python",
   "nbconvert_exporter": "python",
   "pygments_lexer": "ipython3",
   "version": "3.8.18"
  }
 },
 "nbformat": 4,
 "nbformat_minor": 2
}
