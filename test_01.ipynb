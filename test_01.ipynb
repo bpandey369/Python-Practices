{
 "cells": [
  {
   "cell_type": "markdown",
   "metadata": {},
   "source": [
    "# Simple OOP Calculator\n",
    "## Create methods for the Calculator class that can do the following:\n",
    "\n",
    "Add two numbers.\n",
    "Subtract two numbers.\n",
    "Multiply two numbers.\n",
    "Divide two numbers.\n",
    "### Examples\n",
    "calculator = Calculator()\n",
    "\n",
    "calculator.add(10, 5) ➞ 15\n",
    "\n",
    "calculator.subtract(10, 5) ➞ 5\n",
    "\n",
    "calculator.multiply(10, 5) ➞ 50\n",
    "\n",
    "calculator.divide(10, 5) ➞ 2\n",
    "\n",
    "### Notes\n",
    "The methods should return the result of the calculation.\n",
    "Don't worry about needing to handle division by zero errors.\n",
    "See the Resources tab for some helpful tutorials on Python classes."
   ]
  },
  {
   "cell_type": "code",
   "execution_count": 9,
   "metadata": {},
   "outputs": [],
   "source": [
    "class Calculator:\n",
    "\n",
    "    def add(self, num1, num2):\n",
    "        return num1 + num2\n",
    "    \n",
    "    def sub(self, num1, num2):\n",
    "        if num1 > num2:\n",
    "            return num1 - num2\n",
    "        else:\n",
    "            return num2 - num1\n",
    "    \n",
    "    def mul(self, num1, num2):\n",
    "        return num1 * num2\n",
    "    \n",
    "    def div(self, num1, num2):\n",
    "        return int(num1 / num2)\n",
    "    \n",
    "calculator = Calculator()\n",
    "    \n"
   ]
  },
  {
   "cell_type": "code",
   "execution_count": 10,
   "metadata": {},
   "outputs": [
    {
     "name": "stdout",
     "output_type": "stream",
     "text": [
      "15\n",
      "5\n",
      "50\n",
      "2\n"
     ]
    }
   ],
   "source": [
    "print(calculator.add(10, 5))\n",
    "\n",
    "print(calculator.sub(10, 5))\n",
    "\n",
    "print(calculator.mul(10, 5))\n",
    "\n",
    "print(calculator.div(10, 5))"
   ]
  },
  {
   "cell_type": "markdown",
   "metadata": {},
   "source": [
    "# Classes For Fetching Information on a Sports Player\n",
    "### Create a class that takes the following four arguments for a particular football player:\n",
    "\n",
    "name\n",
    "age\n",
    "height\n",
    "weight\n",
    "Also, create three functions for the class that returns the following strings:\n",
    "\n",
    "get_age() returns \"name is age age\"\n",
    "get_height() returns \"name is heightcm\"\n",
    "get_weight() returns \"name weighs weightkg\"\n",
    "### Examples\n",
    " p1 = player(\"David Jones\", 25, 175, 75)\n",
    "\n",
    " p1.get_age() ➞ \"David Jones is age 25\"\n",
    " p1.get_height() ➞ \"David Jones is 175cm\"\n",
    " p1.get_weight() ➞ \"David Jones weighs 75kg\"\n",
    "### Notes\n",
    "name will be passed in as a string and age, height, weight will be integers."
   ]
  },
  {
   "cell_type": "code",
   "execution_count": 17,
   "metadata": {},
   "outputs": [],
   "source": [
    "class Player():\n",
    "\n",
    "\tdef __init__(self, name, age, height, weight):\n",
    "\t\tself.name = name\n",
    "\t\tself.age = age\n",
    "\t\tself.height = height\n",
    "\t\tself.weight = weight\n",
    "\t\t\n",
    "\tdef get_age(self):\t\n",
    "\t\treturn f\"{self.name} is age {self.age}\"\n",
    "\t\t\n",
    "\tdef get_height(self):\t\n",
    "\t    return f\"{self.name} is  {self.height}cm\"\n",
    "\t\t\n",
    "\tdef get_weight(self):\n",
    "\t\treturn f\"{self.name} is weight {self.weight}kg\"\n",
    "\n",
    "\n",
    "p1 = Player('Bhagat Pandey', 29,180,70)"
   ]
  },
  {
   "cell_type": "code",
   "execution_count": 19,
   "metadata": {},
   "outputs": [
    {
     "name": "stdout",
     "output_type": "stream",
     "text": [
      "Bhagat Pandey is age 29\n",
      "Bhagat Pandey is  180cm\n",
      "Bhagat Pandey is weight 70kg\n"
     ]
    }
   ],
   "source": [
    "print(p1.get_age())\n",
    "print(p1.get_height())\n",
    "print(p1.get_weight())"
   ]
  },
  {
   "cell_type": "markdown",
   "metadata": {},
   "source": [
    "# Fullname and Email\n",
    "Create the instance attributes fullname and email in the Employee class. Given a person's first and last names:\n",
    "\n",
    "Form the fullname by simply joining the first and last name together, separated by a space.\n",
    "Form the email by joining the first and last name together with a . in between, and follow it with @company.com at the end. Make sure the entire email is in lowercase.\n",
    "Examples\n",
    "emp_1 = Employee(\"John\", \"Smith\")\n",
    "emp_2 = Employee(\"Mary\",  \"Sue\")\n",
    "emp_3 = Employee(\"Antony\", \"Walker\")\n",
    "emp_1.fullname ➞ \"John Smith\"\n",
    "\n",
    "emp_2.email ➞ \"mary.sue@company.com\"\n",
    "\n",
    "emp_3.firstname ➞ \"Antony\"\n",
    "Notes\n",
    "The attributes firstname and lastname are already made for you.\n",
    "See the Resources tab for some helpful tutorials on Python classes!"
   ]
  },
  {
   "cell_type": "code",
   "execution_count": 27,
   "metadata": {},
   "outputs": [],
   "source": [
    "class Employee:\n",
    "    def __init__(self, first_name, last_name):\n",
    "        self.first_name = first_name\n",
    "        self.last_name = last_name\n",
    "        self.fullname = f'{self.first_name} {self.last_name}'\n",
    "        self.email = f'{self.first_name}.{self.last_name}@company.com' \n",
    "        self.firstname = self.first_name\n",
    "        self.lastname = self.last_name\n",
    "    "
   ]
  },
  {
   "cell_type": "code",
   "execution_count": 29,
   "metadata": {},
   "outputs": [],
   "source": [
    "emp_1 = Employee(\"John\", \"Smith\")\n",
    "emp_2 = Employee(\"Mary\",  \"Sue\")\n",
    "emp_3 = Employee(\"Antony\", \"Walker\")"
   ]
  },
  {
   "cell_type": "code",
   "execution_count": 31,
   "metadata": {},
   "outputs": [
    {
     "name": "stdout",
     "output_type": "stream",
     "text": [
      "John Smith\n",
      "Mary.Sue@company.com\n",
      "Antony\n"
     ]
    }
   ],
   "source": [
    "print(emp_1.fullname)\n",
    "print(emp_2.email)\n",
    "print(emp_3.firstname)"
   ]
  },
  {
   "cell_type": "markdown",
   "metadata": {},
   "source": [
    "# Ones, Threes and Nines (Version #1)\n",
    "Given an int, figure out how many ones, threes and nines you could fit into the number. You must create a class. You will make variables (self.ones, self.threes, self.nines) to do this.\n",
    "\n",
    "Examples\n",
    "n1 = ones_threes_nines(5)\n",
    "n1.nines ➞ 0\n",
    "\n",
    "n1.ones ➞ 5\n",
    "\n",
    "n1.threes ➞ 1\n",
    "Notes\n",
    "Do not use the math module.\n",
    "See version #2 of this series."
   ]
  },
  {
   "cell_type": "code",
   "execution_count": 33,
   "metadata": {},
   "outputs": [],
   "source": [
    "class ones_threes_nines:\n",
    "    def __init__(self, num):\n",
    "        self.num = num\n",
    "    \n",
    "    def ones(self):\n",
    "        return self.num\n",
    "    \n",
    "    def threes(self):\n",
    "        return self.num//3\n",
    "    \n",
    "    def nines(self):\n",
    "        return self.num // 9"
   ]
  },
  {
   "cell_type": "code",
   "execution_count": 38,
   "metadata": {},
   "outputs": [
    {
     "name": "stdout",
     "output_type": "stream",
     "text": [
      "0\n",
      "5\n",
      "1\n"
     ]
    }
   ],
   "source": [
    "n1 = ones_threes_nines(5)\n",
    "print(n1.nines())\n",
    "\n",
    "print(n1.ones())\n",
    "\n",
    "print(n1.threes())"
   ]
  }
 ],
 "metadata": {
  "kernelspec": {
   "display_name": "venv",
   "language": "python",
   "name": "python3"
  },
  "language_info": {
   "codemirror_mode": {
    "name": "ipython",
    "version": 3
   },
   "file_extension": ".py",
   "mimetype": "text/x-python",
   "name": "python",
   "nbconvert_exporter": "python",
   "pygments_lexer": "ipython3",
   "version": "3.8.18"
  }
 },
 "nbformat": 4,
 "nbformat_minor": 2
}
